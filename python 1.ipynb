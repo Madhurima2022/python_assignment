{
 "cells": [
  {
   "cell_type": "markdown",
   "id": "12e949f7",
   "metadata": {},
   "source": [
    "# #Python Basics -Assignment"
   ]
  },
  {
   "cell_type": "code",
   "execution_count": 3,
   "id": "1adbeacd",
   "metadata": {},
   "outputs": [
    {
     "name": "stdout",
     "output_type": "stream",
     "text": [
      "hello print \n"
     ]
    }
   ],
   "source": [
    "## simple Message:store a message in a variable ,and then print the messege.\n",
    "a=\"hello print \"\n",
    "print(a)"
   ]
  },
  {
   "cell_type": "code",
   "execution_count": 7,
   "id": "c8e73ec2",
   "metadata": {},
   "outputs": [
    {
     "data": {
      "text/plain": [
       "'I am madhurima'"
      ]
     },
     "execution_count": 7,
     "metadata": {},
     "output_type": "execute_result"
    }
   ],
   "source": [
    "### store a messege in a variable and print the messege.then change the value of your variable to a new message. and print\n",
    "## the new message.\n",
    "s=\"hello! good morning to all\"\n",
    "s\n",
    "s=\"I am madhurima\"\n",
    "s"
   ]
  },
  {
   "cell_type": "code",
   "execution_count": 11,
   "id": "d999385b",
   "metadata": {},
   "outputs": [
    {
     "name": "stdout",
     "output_type": "stream",
     "text": [
      "hello eric would you like to learn python today?\n"
     ]
    }
   ],
   "source": [
    "## store a person name's name  in a variable and print a message to that person. your message should be simple as,\"Hello eric,\n",
    "## would youlike to learn some python today?\"\n",
    "a=\"eric\"\n",
    "print(\"hello\",a,\"would you like to learn python today?\")"
   ]
  },
  {
   "cell_type": "code",
   "execution_count": 17,
   "id": "d1b81050",
   "metadata": {},
   "outputs": [],
   "source": [
    "##Find a quote from afamous person you admire.print the quote and name of this author.\n",
    "\n"
   ]
  },
  {
   "cell_type": "code",
   "execution_count": 27,
   "id": "8c179155",
   "metadata": {},
   "outputs": [
    {
     "name": "stdout",
     "output_type": "stream",
     "text": [
      "Albert Einstein said a person who never made a mistake never tried anything new.\n"
     ]
    }
   ],
   "source": [
    "##repeat previous question.store famous person name in a variable called famous_person.then compose your message and \n",
    "##stored it in a variable called message.print your mesage.\n",
    "famous_person=\"Albert Einstein\"\n",
    "print(f\"{famous_person} said a person who never made a mistake never tried anything new.\")"
   ]
  },
  {
   "cell_type": "code",
   "execution_count": 39,
   "id": "0fab4a38",
   "metadata": {},
   "outputs": [
    {
     "name": "stdout",
     "output_type": "stream",
     "text": [
      "8\n"
     ]
    }
   ],
   "source": [
    "##write addition ,subtraction ,multiplication and division operation that each result number is 8. be sure to enclose your \n",
    "##opearationin print statement to see result\n",
    "a=(5+3)\n",
    "b=(12-4)\n",
    "c=(4*2)\n",
    "d=(16/2)\n",
    "if(a==b) & (c==d) & (a==c):\n",
    "    print(a)"
   ]
  },
  {
   "cell_type": "code",
   "execution_count": 41,
   "id": "c7f7518e",
   "metadata": {},
   "outputs": [
    {
     "name": "stdout",
     "output_type": "stream",
     "text": [
      "its ten 10\n"
     ]
    }
   ],
   "source": [
    "##store a favourite number in a variable.then using that variable create a message that reveals your favourite number.\n",
    "##print the message.\n",
    "a=10\n",
    "print(\"its ten\",a)"
   ]
  },
  {
   "cell_type": "code",
   "execution_count": 51,
   "id": "8b973585",
   "metadata": {},
   "outputs": [
    {
     "name": "stdout",
     "output_type": "stream",
     "text": [
      "mina\n",
      "ritu\n",
      "kajal\n"
     ]
    }
   ],
   "source": [
    "##store the name of a few of your friends in a list called names.print each person names by accessing each element in the list ,\n",
    "##one at a time.\n",
    "names=[\"mina\",\"ritu\",\"kajal\"]\n",
    "for i in names:\n",
    "    print(i)\n"
   ]
  },
  {
   "cell_type": "code",
   "execution_count": 53,
   "id": "c6c1f5e3",
   "metadata": {},
   "outputs": [
    {
     "name": "stdout",
     "output_type": "stream",
     "text": [
      "good morning mina\n",
      "good morning ritu\n",
      "good morning kajal\n"
     ]
    }
   ],
   "source": [
    "##start with the list in previous one. but instead of just printing each person's name print message to them.the text of each \n",
    "##message should be the same, but each message should be personalized with the person name.\n",
    "print(\"good morning\",names[0])\n",
    "print(\"good morning\",names[1])\n",
    "print(\"good morning\",names[2])"
   ]
  },
  {
   "cell_type": "code",
   "execution_count": 57,
   "id": "14c5c4e1",
   "metadata": {},
   "outputs": [
    {
     "name": "stdout",
     "output_type": "stream",
     "text": [
      "favourite mode of transportation\n",
      "i would like to own a  Honda motorcycle\n",
      "i would like to own a  Fort motorcycle\n",
      "i would like to own a  Maruti motorcycle\n"
     ]
    }
   ],
   "source": [
    "## think of your favourite mode of transportation,such as a motorcycle or a car and make a list that stores savaral examples.\n",
    "##use your list to print a series of statement about these item.\n",
    "print(\"favourite mode of transportation\")\n",
    "trans=[\"Honda\",\"Fort\",\"Maruti\"]\n",
    "trans\n",
    "print(\"i would like to own a \",trans[0],\"motorcycle\")\n",
    "print(\"i would like to own a \",trans[1],\"motorcycle\")\n",
    "print(\"i would like to own a \",trans[2],\"motorcycle\")"
   ]
  }
 ],
 "metadata": {
  "kernelspec": {
   "display_name": "Python 3",
   "language": "python",
   "name": "python3"
  },
  "language_info": {
   "codemirror_mode": {
    "name": "ipython",
    "version": 3
   },
   "file_extension": ".py",
   "mimetype": "text/x-python",
   "name": "python",
   "nbconvert_exporter": "python",
   "pygments_lexer": "ipython3",
   "version": "3.8.8"
  }
 },
 "nbformat": 4,
 "nbformat_minor": 5
}
